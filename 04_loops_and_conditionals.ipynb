{
 "cells": [
  {
   "cell_type": "markdown",
   "metadata": {},
   "source": [
    "# Loops and Conditionals"
   ]
  },
  {
   "cell_type": "markdown",
   "metadata": {},
   "source": [
    "## For Loops\n",
    "\n",
    "A for loop is used for iterating over a sequence. The sequence can be a list, a tuple, a dictionary, a set, or a string.\n",
    "\n"
   ]
  },
  {
   "cell_type": "code",
   "execution_count": 10,
   "metadata": {},
   "outputs": [
    {
     "name": "stdout",
     "output_type": "stream",
     "text": [
      "San Francisco\n",
      "Los Angeles\n",
      "New York\n",
      "Atlanta\n",
      "Kraków\n"
     ]
    }
   ],
   "source": [
    "cities = ['San Francisco', 'Los Angeles', 'New York', 'Atlanta', 'Kraków']\n",
    "\n",
    "for city in cities:\n",
    "    print(city)"
   ]
  },
  {
   "cell_type": "markdown",
   "metadata": {},
   "source": [
    "To iterate over a dictionary, you can call the `items()` method on it which returns a tuple of key and value for each item."
   ]
  },
  {
   "cell_type": "code",
   "execution_count": 12,
   "metadata": {},
   "outputs": [
    {
     "name": "stdout",
     "output_type": "stream",
     "text": [
      "city Kraków\n",
      "population 800653\n",
      "coordinates (50.0647, 19.945)\n"
     ]
    }
   ],
   "source": [
    "data = {'city': 'Kraków', 'population': 800653, 'coordinates': (50.0647, 19.9450) }\n",
    "\n",
    "for x, y in data.items():\n",
    "    print(x, y)"
   ]
  },
  {
   "cell_type": "markdown",
   "metadata": {},
   "source": [
    "The built-in `range()` function allows you to create sequence of numbers that you can iterate over"
   ]
  },
  {
   "cell_type": "code",
   "execution_count": 13,
   "metadata": {},
   "outputs": [
    {
     "name": "stdout",
     "output_type": "stream",
     "text": [
      "0\n",
      "1\n",
      "2\n",
      "3\n",
      "4\n"
     ]
    }
   ],
   "source": [
    "for x in range(5):\n",
    "    print(x)"
   ]
  },
  {
   "cell_type": "markdown",
   "metadata": {},
   "source": [
    "The range function can also take a start, an end number, and a step"
   ]
  },
  {
   "cell_type": "code",
   "execution_count": 14,
   "metadata": {},
   "outputs": [
    {
     "name": "stdout",
     "output_type": "stream",
     "text": [
      "1\n",
      "3\n",
      "5\n",
      "7\n",
      "9\n"
     ]
    }
   ],
   "source": [
    "for x in range(1, 10, 2):\n",
    "    print(x)"
   ]
  },
  {
   "cell_type": "markdown",
   "metadata": {},
   "source": [
    "# Conditionals\n",
    "\n",
    "Python supports logical conditions such as equals, not equals, greater than etc. These conditions can be used in several ways, most commonly in *if statements* and loops.\n",
    "\n",
    "An *if statement* is written by using the `if` keyword.\n",
    "\n",
    "Note: A very common error that programmers make is to use *=* to evaluate a *equals to* condition. The *=* in Python means assignment, not equals to. Always ensure that you use the *==* for an equals to condition."
   ]
  },
  {
   "cell_type": "code",
   "execution_count": 16,
   "metadata": {},
   "outputs": [
    {
     "name": "stdout",
     "output_type": "stream",
     "text": [
      "Kraków\n"
     ]
    }
   ],
   "source": [
    "for city in cities:\n",
    "    if city == 'Kraków':\n",
    "        print(city)"
   ]
  },
  {
   "cell_type": "markdown",
   "metadata": {},
   "source": [
    "You can use `else` keywords along with `if` to match elements that do not meet the condition"
   ]
  },
  {
   "cell_type": "code",
   "execution_count": 18,
   "metadata": {},
   "outputs": [
    {
     "name": "stdout",
     "output_type": "stream",
     "text": [
      "This is not Kraków\n",
      "This is not Kraków\n",
      "This is not Kraków\n",
      "This is not Kraków\n",
      "Kraków\n"
     ]
    }
   ],
   "source": [
    "for city in cities:\n",
    "    if city == 'Kraków': # iterate through each city in the cities LIST and print - either\n",
    "        print(city) # Kraków\n",
    "    else:\n",
    "        print('This is not Kraków') # or print - This is not Kraków"
   ]
  },
  {
   "cell_type": "markdown",
   "metadata": {},
   "source": [
    "Python relies on indentation (whitespace at the beginning of a line) to define scope in the for loop and if statements. So make sure your code is properly indented. "
   ]
  },
  {
   "cell_type": "markdown",
   "metadata": {},
   "source": [
    "You can evaluate a series of conditions using the `elif` keyword.\n",
    "\n",
    "Multiple criteria can be combined using the `and` and `or` keywords."
   ]
  },
  {
   "cell_type": "code",
   "execution_count": 7,
   "metadata": {},
   "outputs": [
    {
     "name": "stdout",
     "output_type": "stream",
     "text": [
      "San Francisco is a small city\n",
      "Los Angeles is a big city\n",
      "New York is a mega city\n",
      "Atlanta is a small city\n",
      "Kraków is a small city\n"
     ]
    }
   ],
   "source": [
    "# dictionary of city:population\n",
    "cities_population = {\n",
    "    'San Francisco': 881549, # each key:value pair is referred to as an ITEM\n",
    "    'Los Angeles': 3792621,\n",
    "    'New York': 8175133,\n",
    "    'Atlanta':498044,\n",
    "    'Kraków':800653\n",
    "}\n",
    "\n",
    "for city, population in cities_population.items():\n",
    "    if population < 1000000:\n",
    "        print('{} is a small city'.format(city))\n",
    "        \n",
    "    elif population > 1000000 and population < 5000000:\n",
    "        print('{} is a big city'.format(city))\n",
    "        \n",
    "    else:\n",
    "        print('{} is a mega city'.format(city))"
   ]
  },
  {
   "cell_type": "markdown",
   "metadata": {},
   "source": [
    "## Control Statements\n",
    "\n",
    "A for-loop iterates over each item in the sequence. Sometimes is desirable to stop the execution, or skip certain parts of the for-loops. Python has special statements, `break`, `continue` and `pass`. "
   ]
  },
  {
   "cell_type": "markdown",
   "metadata": {},
   "source": [
    "A `break` statement will stop the loop and exit out of it"
   ]
  },
  {
   "cell_type": "code",
   "execution_count": 19,
   "metadata": {},
   "outputs": [
    {
     "name": "stdout",
     "output_type": "stream",
     "text": [
      "San Francisco\n",
      "Los Angeles\n",
      "New York\n",
      "Atlanta\n",
      "Kraków\n",
      "I found Kraków\n"
     ]
    }
   ],
   "source": [
    "for city in cities:\n",
    "    print(city)\n",
    "    if city == 'Kraków':\n",
    "        print('I found Kraków')\n",
    "        break"
   ]
  },
  {
   "cell_type": "markdown",
   "metadata": {},
   "source": [
    "A `continue` statement will skip the remaining part of the loop and go to the next iteration"
   ]
  },
  {
   "cell_type": "code",
   "execution_count": 20,
   "metadata": {},
   "outputs": [
    {
     "name": "stdout",
     "output_type": "stream",
     "text": [
      "San Francisco\n",
      "Los Angeles\n",
      "New York\n",
      "Atlanta\n"
     ]
    }
   ],
   "source": [
    "for city in cities:\n",
    "    if city == 'Kraków':\n",
    "        continue\n",
    "    print(city)"
   ]
  },
  {
   "cell_type": "markdown",
   "metadata": {},
   "source": [
    "A `pass` statement doesn't do anything. It is useful when some code is required to complete the syntax, but you do not want any code to execute. It is typically used as a `placeholder` when a function is not complete."
   ]
  },
  {
   "cell_type": "code",
   "execution_count": 21,
   "metadata": {},
   "outputs": [
    {
     "name": "stdout",
     "output_type": "stream",
     "text": [
      "San Francisco\n",
      "Los Angeles\n",
      "New York\n",
      "Atlanta\n"
     ]
    }
   ],
   "source": [
    "for city in cities:\n",
    "    if city == 'Kraków':\n",
    "        pass\n",
    "    else:\n",
    "        print(city)"
   ]
  },
  {
   "cell_type": "markdown",
   "metadata": {},
   "source": [
    "## Exercise\n",
    "\n",
    "The Buck Fast challenge.\n",
    "\n",
    "Write a program that prints the numbers from 1 to 100 and for multiples of 3 print **Buck** instead of the number and for the multiples of 5 print **Fast**. If it is divisible by both, print **BuckFast**.\n",
    "\n",
    "So the output should be something like below\n",
    "\n",
    "`1, 2, Buck, 4, Buck, Fast, 7, 8, Fast, Buck, 11, Fast, 13, 14, BuckFast, ...`\n",
    "\n",
    "Breaking down the problem further, we need to create for-loop with following conditions\n",
    "\n",
    "- If the number is a multiple of both 3 and 5 (i.e. 15), print BuckFast\n",
    "- If the number is multiple of 3, print Buck\n",
    "- If the number is multiple of 5, print Fast\n",
    "- Otherwise print the number\n",
    "\n",
    "Hint: See the code cell below. Use the modulus operator **%** to check if a number is divisible by another. `10 % 5` equals 0, meaning it is divisible by 5.\n"
   ]
  },
  {
   "cell_type": "code",
   "execution_count": null,
   "metadata": {},
   "outputs": [],
   "source": [
    "for x in range(1, 10):\n",
    "    if x%2 == 0:\n",
    "        print('{} is divisible by 2'.format(x))\n",
    "    else:\n",
    "        print('{} is not divisible by 2'.format(x))"
   ]
  },
  {
   "cell_type": "markdown",
   "metadata": {},
   "source": [
    "## My Solution"
   ]
  },
  {
   "cell_type": "code",
   "execution_count": 26,
   "metadata": {},
   "outputs": [
    {
     "name": "stdout",
     "output_type": "stream",
     "text": [
      "1\n",
      "2\n",
      "Buck\n",
      "4\n",
      "Fast\n",
      "Buck\n",
      "7\n",
      "8\n",
      "Buck\n",
      "Fast\n",
      "11\n",
      "Buck\n",
      "13\n",
      "14\n",
      "BuckFast\n",
      "16\n",
      "17\n",
      "Buck\n",
      "19\n",
      "Fast\n",
      "Buck\n",
      "22\n",
      "23\n",
      "Buck\n",
      "Fast\n",
      "26\n",
      "Buck\n",
      "28\n",
      "29\n",
      "BuckFast\n",
      "31\n",
      "32\n",
      "Buck\n",
      "34\n",
      "Fast\n",
      "Buck\n",
      "37\n",
      "38\n",
      "Buck\n",
      "Fast\n",
      "41\n",
      "Buck\n",
      "43\n",
      "44\n",
      "BuckFast\n",
      "46\n",
      "47\n",
      "Buck\n",
      "49\n",
      "Fast\n",
      "Buck\n",
      "52\n",
      "53\n",
      "Buck\n",
      "Fast\n",
      "56\n",
      "Buck\n",
      "58\n",
      "59\n",
      "BuckFast\n",
      "61\n",
      "62\n",
      "Buck\n",
      "64\n",
      "Fast\n",
      "Buck\n",
      "67\n",
      "68\n",
      "Buck\n",
      "Fast\n",
      "71\n",
      "Buck\n",
      "73\n",
      "74\n",
      "BuckFast\n",
      "76\n",
      "77\n",
      "Buck\n",
      "79\n",
      "Fast\n",
      "Buck\n",
      "82\n",
      "83\n",
      "Buck\n",
      "Fast\n",
      "86\n",
      "Buck\n",
      "88\n",
      "89\n",
      "BuckFast\n",
      "91\n",
      "92\n",
      "Buck\n",
      "94\n",
      "Fast\n",
      "Buck\n",
      "97\n",
      "98\n",
      "Buck\n",
      "Fast\n"
     ]
    }
   ],
   "source": [
    "for x in range(1, 101):\n",
    "    \n",
    "    # if divisible by 3 and 5 print BuckFast\n",
    "    if x%3 ==0 and x%5 ==0:\n",
    "        print('BuckFast')   \n",
    "    \n",
    "    # if divisible by 3 print Buck\n",
    "    elif x%3 == 0:\n",
    "        print('Buck')\n",
    "        \n",
    "    # if divisible by 5 print Fast    \n",
    "    elif x%5 == 0:\n",
    "        print('Fast')                  \n",
    "    \n",
    "    else:\n",
    "        print(x)    \n",
    "    "
   ]
  }
 ],
 "metadata": {
  "kernelspec": {
   "display_name": "Python 3 (ipykernel)",
   "language": "python",
   "name": "python3"
  },
  "language_info": {
   "codemirror_mode": {
    "name": "ipython",
    "version": 3
   },
   "file_extension": ".py",
   "mimetype": "text/x-python",
   "name": "python",
   "nbconvert_exporter": "python",
   "pygments_lexer": "ipython3",
   "version": "3.10.12"
  }
 },
 "nbformat": 4,
 "nbformat_minor": 4
}
