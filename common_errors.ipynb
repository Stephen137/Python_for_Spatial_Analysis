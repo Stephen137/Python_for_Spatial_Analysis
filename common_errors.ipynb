{
 "cells": [
  {
   "cell_type": "markdown",
   "id": "c7a97747-d252-4a0c-a01a-6913f7d5d506",
   "metadata": {},
   "source": [
    "# Review of Common Python Errors"
   ]
  },
  {
   "cell_type": "code",
   "execution_count": 1,
   "id": "580a10de-efa3-4259-979c-abc47254945e",
   "metadata": {},
   "outputs": [
    {
     "ename": "SyntaxError",
     "evalue": "invalid syntax. Perhaps you forgot a comma? (4293340409.py, line 1)",
     "output_type": "error",
     "traceback": [
      "\u001b[0;36m  Cell \u001b[0;32mIn[1], line 1\u001b[0;36m\u001b[0m\n\u001b[0;31m    print(Hello World)\u001b[0m\n\u001b[0m          ^\u001b[0m\n\u001b[0;31mSyntaxError\u001b[0m\u001b[0;31m:\u001b[0m invalid syntax. Perhaps you forgot a comma?\n"
     ]
    }
   ],
   "source": [
    "print(Hello World)"
   ]
  },
  {
   "cell_type": "markdown",
   "id": "23d4c3b6-7674-403e-9adc-9fac2d3b9858",
   "metadata": {},
   "source": [
    "<details>\n",
    "Here, we are getting syntax error because we have missed quotes ('') - which is required to define any string(text).\n",
    " </details>"
   ]
  },
  {
   "cell_type": "code",
   "execution_count": 2,
   "id": "b73afd9e-f64d-4675-8462-940ddcef94e3",
   "metadata": {
    "tags": []
   },
   "outputs": [
    {
     "name": "stdout",
     "output_type": "stream",
     "text": [
      "city state\n"
     ]
    }
   ],
   "source": [
    "city = 'San Fransico'\n",
    "state = 'California'\n",
    "print('city', 'state')"
   ]
  },
  {
   "cell_type": "markdown",
   "id": "bb421ab7-59a9-47ea-b6b7-789455a054c8",
   "metadata": {},
   "source": [
    "<details>\n",
    "The code above will not give any error but see what is it printing!\n",
    "So, quotes should't be there in case of printing a variable.\n",
    "</details>"
   ]
  },
  {
   "cell_type": "code",
   "execution_count": 3,
   "id": "f801c45c-25e1-4ef1-828b-4f3a34f01cce",
   "metadata": {},
   "outputs": [
    {
     "ename": "TypeError",
     "evalue": "can't multiply sequence by non-int of type 'float'",
     "output_type": "error",
     "traceback": [
      "\u001b[0;31m---------------------------------------------------------------------------\u001b[0m",
      "\u001b[0;31mTypeError\u001b[0m                                 Traceback (most recent call last)",
      "Cell \u001b[0;32mIn[3], line 2\u001b[0m\n\u001b[1;32m      1\u001b[0m elevation_feet \u001b[38;5;241m=\u001b[39m \u001b[38;5;124m'\u001b[39m\u001b[38;5;124m934\u001b[39m\u001b[38;5;124m'\u001b[39m\n\u001b[0;32m----> 2\u001b[0m elevation_meters \u001b[38;5;241m=\u001b[39m \u001b[43melevation_feet\u001b[49m\u001b[43m \u001b[49m\u001b[38;5;241;43m*\u001b[39;49m\u001b[43m \u001b[49m\u001b[38;5;241;43m0.3048\u001b[39;49m\n\u001b[1;32m      3\u001b[0m \u001b[38;5;28mprint\u001b[39m(elevation_meters)\n",
      "\u001b[0;31mTypeError\u001b[0m: can't multiply sequence by non-int of type 'float'"
     ]
    }
   ],
   "source": [
    "elevation_feet = '934'\n",
    "elevation_meters = elevation_feet * 0.3048\n",
    "print(elevation_meters)"
   ]
  },
  {
   "cell_type": "markdown",
   "id": "ef0ff56f-f7ac-4442-8a34-934b48f48c24",
   "metadata": {},
   "source": [
    "<details>\n",
    "    If we want to do mathematical operations, it is important to have appropreate data type. In the above code we have stired 'elevation_feet' as a string(having quotes) and we want to multiply it with float(a number with decimal) which is not possible.\n",
    "</details>"
   ]
  },
  {
   "cell_type": "code",
   "execution_count": 4,
   "id": "a3c8c648-19b9-4b15-a58e-3c2a29c8b793",
   "metadata": {},
   "outputs": [
    {
     "ename": "TypeError",
     "evalue": "tuple indices must be integers or slices, not str",
     "output_type": "error",
     "traceback": [
      "\u001b[0;31m---------------------------------------------------------------------------\u001b[0m",
      "\u001b[0;31mTypeError\u001b[0m                                 Traceback (most recent call last)",
      "Cell \u001b[0;32mIn[4], line 4\u001b[0m\n\u001b[1;32m      2\u001b[0m longitude \u001b[38;5;241m=\u001b[39m \u001b[38;5;241m-\u001b[39m\u001b[38;5;241m121.5687\u001b[39m\n\u001b[1;32m      3\u001b[0m coordinates \u001b[38;5;241m=\u001b[39m (latitude, longitude)\n\u001b[0;32m----> 4\u001b[0m long \u001b[38;5;241m=\u001b[39m (\u001b[43mcoordinates\u001b[49m\u001b[43m[\u001b[49m\u001b[38;5;124;43m'\u001b[39;49m\u001b[38;5;124;43m1\u001b[39;49m\u001b[38;5;124;43m'\u001b[39;49m\u001b[43m]\u001b[49m)\n",
      "\u001b[0;31mTypeError\u001b[0m: tuple indices must be integers or slices, not str"
     ]
    }
   ],
   "source": [
    "latitude = 37.7739\n",
    "longitude = -121.5687\n",
    "coordinates = (latitude, longitude)\n",
    "long = (coordinates['1'])"
   ]
  },
  {
   "cell_type": "markdown",
   "id": "6660fc94-cc60-4e8f-8a87-4eb0cb2905b0",
   "metadata": {},
   "source": [
    "<details>\n",
    "    Index of the element in a list or a tupal should be of the type 'integer'. Putting quotes or any floating number will give TypeError.\n",
    "</details>"
   ]
  },
  {
   "cell_type": "code",
   "execution_count": 5,
   "id": "e4c5ebaf-cf9b-4e4e-8ea9-c1b2a21885a2",
   "metadata": {},
   "outputs": [
    {
     "ename": "NameError",
     "evalue": "name 'place' is not defined",
     "output_type": "error",
     "traceback": [
      "\u001b[0;31m---------------------------------------------------------------------------\u001b[0m",
      "\u001b[0;31mNameError\u001b[0m                                 Traceback (most recent call last)",
      "Cell \u001b[0;32mIn[5], line 1\u001b[0m\n\u001b[0;32m----> 1\u001b[0m data \u001b[38;5;241m=\u001b[39m {\u001b[43mplace\u001b[49m : \u001b[38;5;124m'\u001b[39m\u001b[38;5;124mSan Francisco\u001b[39m\u001b[38;5;124m'\u001b[39m, \u001b[38;5;124m'\u001b[39m\u001b[38;5;124mpopulation\u001b[39m\u001b[38;5;124m'\u001b[39m: \u001b[38;5;241m881549\u001b[39m, \u001b[38;5;124m'\u001b[39m\u001b[38;5;124mcoordinates\u001b[39m\u001b[38;5;124m'\u001b[39m: (\u001b[38;5;241m-\u001b[39m\u001b[38;5;241m122.4194\u001b[39m, \u001b[38;5;241m37.7749\u001b[39m) }\n\u001b[1;32m      2\u001b[0m \u001b[38;5;28mprint\u001b[39m(data)\n",
      "\u001b[0;31mNameError\u001b[0m: name 'place' is not defined"
     ]
    }
   ],
   "source": [
    "data = {place : 'San Francisco', 'population': 881549, 'coordinates': (-122.4194, 37.7749) }\n",
    "print(data)"
   ]
  },
  {
   "cell_type": "markdown",
   "id": "14afbd14-2aba-476d-85bb-2724b39c8fda",
   "metadata": {},
   "source": [
    "<details>\n",
    "    We have not put the quotes around a key(place) in the dictionary. So it is searching for a variable named 'place' which is not defined hence the nameError.\n",
    "</details>"
   ]
  },
  {
   "cell_type": "code",
   "execution_count": 6,
   "id": "f7ac9677-deda-4b76-8c1d-50aac965d157",
   "metadata": {},
   "outputs": [
    {
     "ename": "KeyError",
     "evalue": "'Place'",
     "output_type": "error",
     "traceback": [
      "\u001b[0;31m---------------------------------------------------------------------------\u001b[0m",
      "\u001b[0;31mKeyError\u001b[0m                                  Traceback (most recent call last)",
      "Cell \u001b[0;32mIn[6], line 2\u001b[0m\n\u001b[1;32m      1\u001b[0m data \u001b[38;5;241m=\u001b[39m {\u001b[38;5;124m'\u001b[39m\u001b[38;5;124mplace\u001b[39m\u001b[38;5;124m'\u001b[39m : \u001b[38;5;124m'\u001b[39m\u001b[38;5;124mSan Francisco\u001b[39m\u001b[38;5;124m'\u001b[39m, \u001b[38;5;124m'\u001b[39m\u001b[38;5;124mpopulation\u001b[39m\u001b[38;5;124m'\u001b[39m: \u001b[38;5;241m881549\u001b[39m, \u001b[38;5;124m'\u001b[39m\u001b[38;5;124mcoordinates\u001b[39m\u001b[38;5;124m'\u001b[39m: (\u001b[38;5;241m-\u001b[39m\u001b[38;5;241m122.4194\u001b[39m, \u001b[38;5;241m37.7749\u001b[39m) }\n\u001b[0;32m----> 2\u001b[0m \u001b[38;5;28mprint\u001b[39m(\u001b[43mdata\u001b[49m\u001b[43m[\u001b[49m\u001b[38;5;124;43m'\u001b[39;49m\u001b[38;5;124;43mPlace\u001b[39;49m\u001b[38;5;124;43m'\u001b[39;49m\u001b[43m]\u001b[49m)\n",
      "\u001b[0;31mKeyError\u001b[0m: 'Place'"
     ]
    }
   ],
   "source": [
    "data = {'place' : 'San Francisco', 'population': 881549, 'coordinates': (-122.4194, 37.7749) }\n",
    "print(data['Place'])"
   ]
  },
  {
   "cell_type": "markdown",
   "id": "a52d198e-2d9e-41e6-88ae-f501d1ced1a0",
   "metadata": {},
   "source": [
    "<details>\n",
    "    In the print statement written above, We have wrongly written the key(place).\n",
    "We are getting KeyError which means that there is no such key.\n",
    "</details>"
   ]
  },
  {
   "cell_type": "code",
   "execution_count": 7,
   "id": "04c99b61-1ff2-4b60-b0ea-7d5cdc1ed41b",
   "metadata": {},
   "outputs": [
    {
     "ename": "IndexError",
     "evalue": "list index out of range",
     "output_type": "error",
     "traceback": [
      "\u001b[0;31m---------------------------------------------------------------------------\u001b[0m",
      "\u001b[0;31mIndexError\u001b[0m                                Traceback (most recent call last)",
      "Cell \u001b[0;32mIn[7], line 2\u001b[0m\n\u001b[1;32m      1\u001b[0m cities \u001b[38;5;241m=\u001b[39m [\u001b[38;5;124m'\u001b[39m\u001b[38;5;124mSan Francisco\u001b[39m\u001b[38;5;124m'\u001b[39m, \u001b[38;5;124m'\u001b[39m\u001b[38;5;124mLos Angeles\u001b[39m\u001b[38;5;124m'\u001b[39m, \u001b[38;5;124m'\u001b[39m\u001b[38;5;124mNew York\u001b[39m\u001b[38;5;124m'\u001b[39m, \u001b[38;5;124m'\u001b[39m\u001b[38;5;124mAtlanta\u001b[39m\u001b[38;5;124m'\u001b[39m]\n\u001b[0;32m----> 2\u001b[0m \u001b[38;5;28mprint\u001b[39m(\u001b[43mcities\u001b[49m\u001b[43m[\u001b[49m\u001b[38;5;241;43m4\u001b[39;49m\u001b[43m]\u001b[49m)\n",
      "\u001b[0;31mIndexError\u001b[0m: list index out of range"
     ]
    }
   ],
   "source": [
    "cities = ['San Francisco', 'Los Angeles', 'New York', 'Atlanta']\n",
    "print(cities[4])"
   ]
  },
  {
   "cell_type": "markdown",
   "id": "708f230b-4097-432f-b10b-023d6f5a9638",
   "metadata": {},
   "source": [
    "<details>\n",
    "    Here, we are trying to extract 5th element of the list - which doesn't exist. (Remember counting starts from 0!)"
   ]
  },
  {
   "cell_type": "code",
   "execution_count": 8,
   "id": "19f756cf-5245-48f0-b21d-86362c7e9974",
   "metadata": {},
   "outputs": [
    {
     "ename": "NameError",
     "evalue": "name 'true' is not defined",
     "output_type": "error",
     "traceback": [
      "\u001b[0;31m---------------------------------------------------------------------------\u001b[0m",
      "\u001b[0;31mNameError\u001b[0m                                 Traceback (most recent call last)",
      "Cell \u001b[0;32mIn[8], line 1\u001b[0m\n\u001b[0;32m----> 1\u001b[0m cities\u001b[38;5;241m.\u001b[39msort(reverse\u001b[38;5;241m=\u001b[39m\u001b[43mtrue\u001b[49m)\n\u001b[1;32m      2\u001b[0m \u001b[38;5;28mprint\u001b[39m(cities)\n",
      "\u001b[0;31mNameError\u001b[0m: name 'true' is not defined"
     ]
    }
   ],
   "source": [
    "cities.sort(reverse=true)\n",
    "print(cities)"
   ]
  },
  {
   "cell_type": "markdown",
   "id": "4b46384c-ef20-4b5e-b5d2-3c45c3f1e6fd",
   "metadata": {},
   "source": [
    "<details>\n",
    "Python Booleans take one of two values: True or False and are case sensitive.\n",
    "</details>"
   ]
  },
  {
   "cell_type": "code",
   "execution_count": 9,
   "id": "6b837eb7-1f2a-442b-8675-5a1c9dbe3fe2",
   "metadata": {},
   "outputs": [
    {
     "ename": "AttributeError",
     "evalue": "'set' object has no attribute 'Difference'",
     "output_type": "error",
     "traceback": [
      "\u001b[0;31m---------------------------------------------------------------------------\u001b[0m",
      "\u001b[0;31mAttributeError\u001b[0m                            Traceback (most recent call last)",
      "Cell \u001b[0;32mIn[9], line 5\u001b[0m\n\u001b[1;32m      3\u001b[0m capitals_set \u001b[38;5;241m=\u001b[39m \u001b[38;5;28mset\u001b[39m(capitals)\n\u001b[1;32m      4\u001b[0m cities_set \u001b[38;5;241m=\u001b[39m \u001b[38;5;28mset\u001b[39m(cities)\n\u001b[0;32m----> 5\u001b[0m capital_cities \u001b[38;5;241m=\u001b[39m \u001b[43mcapitals_set\u001b[49m\u001b[38;5;241;43m.\u001b[39;49m\u001b[43mDifference\u001b[49m(cities_set)\n\u001b[1;32m      6\u001b[0m \u001b[38;5;28mprint\u001b[39m(capital_cities)\n",
      "\u001b[0;31mAttributeError\u001b[0m: 'set' object has no attribute 'Difference'"
     ]
    }
   ],
   "source": [
    "cities = ['San Francisco', 'Los Angeles', 'New York', 'Atlanta']\n",
    "capitals = ['Sacramento', 'Boston', 'Austin', 'Atlanta']\n",
    "capitals_set = set(capitals)\n",
    "cities_set = set(cities)\n",
    "capital_cities = capitals_set.Difference(cities_set)\n",
    "print(capital_cities)"
   ]
  },
  {
   "cell_type": "markdown",
   "id": "756a3764-3e1e-4f0f-a63b-ad31e8fe9cae",
   "metadata": {},
   "source": [
    "<details>\n",
    "In the above code, variable 'capitals_set' is the object of type set. Now, there there are few attributes of a set which doesn't include 'Intersection'. So we might have spelt it wrong or we are performing some wrong operation here.\n",
    "</details>"
   ]
  },
  {
   "cell_type": "code",
   "execution_count": 10,
   "id": "f14252bf-bfee-46bb-bc4d-471cca1098f9",
   "metadata": {},
   "outputs": [
    {
     "ename": "SyntaxError",
     "evalue": "(unicode error) 'unicodeescape' codec can't decode bytes in position 2-3: truncated \\UXXXXXXXX escape (1701678647.py, line 1)",
     "output_type": "error",
     "traceback": [
      "\u001b[0;36m  Cell \u001b[0;32mIn[10], line 1\u001b[0;36m\u001b[0m\n\u001b[0;31m    path = 'C:\\Users\\vigna'\u001b[0m\n\u001b[0m                           ^\u001b[0m\n\u001b[0;31mSyntaxError\u001b[0m\u001b[0;31m:\u001b[0m (unicode error) 'unicodeescape' codec can't decode bytes in position 2-3: truncated \\UXXXXXXXX escape\n"
     ]
    }
   ],
   "source": [
    "path = 'C:\\Users\\vigna'\n",
    "print(path)"
   ]
  },
  {
   "cell_type": "markdown",
   "id": "853e9105-d5f0-4053-8cd4-81777df00e70",
   "metadata": {},
   "source": [
    "<details>\n",
    "The '\\\\' is a special character and must be escaped.\n",
    "</details>"
   ]
  },
  {
   "cell_type": "code",
   "execution_count": 11,
   "id": "2c15d484-89c9-4383-bfe7-1b908b8d51e0",
   "metadata": {},
   "outputs": [
    {
     "ename": "IndexError",
     "evalue": "Replacement index 1 out of range for positional args tuple",
     "output_type": "error",
     "traceback": [
      "\u001b[0;31m---------------------------------------------------------------------------\u001b[0m",
      "\u001b[0;31mIndexError\u001b[0m                                Traceback (most recent call last)",
      "Cell \u001b[0;32mIn[11], line 3\u001b[0m\n\u001b[1;32m      1\u001b[0m city \u001b[38;5;241m=\u001b[39m \u001b[38;5;124m'\u001b[39m\u001b[38;5;124mSan Fransico\u001b[39m\u001b[38;5;124m'\u001b[39m\n\u001b[1;32m      2\u001b[0m population \u001b[38;5;241m=\u001b[39m \u001b[38;5;241m881549\u001b[39m\n\u001b[0;32m----> 3\u001b[0m output \u001b[38;5;241m=\u001b[39m \u001b[38;5;124;43m'\u001b[39;49m\u001b[38;5;124;43mPopulation of \u001b[39;49m\u001b[38;5;132;43;01m{}\u001b[39;49;00m\u001b[38;5;124;43m is \u001b[39;49m\u001b[38;5;132;43;01m{}\u001b[39;49;00m\u001b[38;5;124;43m.\u001b[39;49m\u001b[38;5;124;43m'\u001b[39;49m\u001b[38;5;241;43m.\u001b[39;49m\u001b[43mformat\u001b[49m\u001b[43m(\u001b[49m\u001b[43mcity\u001b[49m\u001b[43m)\u001b[49m\n\u001b[1;32m      4\u001b[0m \u001b[38;5;28mprint\u001b[39m(output)\n",
      "\u001b[0;31mIndexError\u001b[0m: Replacement index 1 out of range for positional args tuple"
     ]
    }
   ],
   "source": [
    "city = 'San Fransico'\n",
    "population = 881549\n",
    "output = 'Population of {} is {}.'.format(city)\n",
    "print(output)"
   ]
  },
  {
   "cell_type": "markdown",
   "id": "06009796-4d3e-430c-9315-9f30e3117ea0",
   "metadata": {},
   "source": [
    "<details>\n",
    "This error is arising because there are no enough arguments provided inside the format. So there is nothing to fill for second {} hence the error for index 1.\n",
    "</details>"
   ]
  },
  {
   "cell_type": "code",
   "execution_count": 12,
   "id": "b4648bd9-174c-4170-b975-386bc9f5c037",
   "metadata": {},
   "outputs": [
    {
     "ename": "IndentationError",
     "evalue": "expected an indented block after 'for' statement on line 3 (3796462834.py, line 4)",
     "output_type": "error",
     "traceback": [
      "\u001b[0;36m  Cell \u001b[0;32mIn[12], line 4\u001b[0;36m\u001b[0m\n\u001b[0;31m    print(city)\u001b[0m\n\u001b[0m    ^\u001b[0m\n\u001b[0;31mIndentationError\u001b[0m\u001b[0;31m:\u001b[0m expected an indented block after 'for' statement on line 3\n"
     ]
    }
   ],
   "source": [
    "cities = ['San Francisco', 'Los Angeles', 'New York', 'Atlanta']\n",
    "\n",
    "for city in cities:\n",
    "print(city)"
   ]
  },
  {
   "cell_type": "markdown",
   "id": "4ddc98fb-0836-4661-b208-98a00055098a",
   "metadata": {},
   "source": [
    "<details>\n",
    "If tabs/spaces are not proper anywhere in the code block, Python raises the IndentationError error.\n",
    "</details>"
   ]
  },
  {
   "cell_type": "code",
   "execution_count": 13,
   "id": "94bc2c53-6a33-4a33-a881-d7a4f9d030e3",
   "metadata": {},
   "outputs": [
    {
     "ename": "SyntaxError",
     "evalue": "invalid syntax. Maybe you meant '==' or ':=' instead of '='? (3017824306.py, line 3)",
     "output_type": "error",
     "traceback": [
      "\u001b[0;36m  Cell \u001b[0;32mIn[13], line 3\u001b[0;36m\u001b[0m\n\u001b[0;31m    if city = 'Atlanta':\u001b[0m\n\u001b[0m       ^\u001b[0m\n\u001b[0;31mSyntaxError\u001b[0m\u001b[0;31m:\u001b[0m invalid syntax. Maybe you meant '==' or ':=' instead of '='?\n"
     ]
    }
   ],
   "source": [
    "cities = ['San Francisco', 'Los Angeles', 'New York', 'Atlanta']\n",
    "for city in cities:\n",
    "    if city = 'Atlanta':\n",
    "        print(city)"
   ]
  },
  {
   "cell_type": "markdown",
   "id": "f51796db-e2eb-420e-b09c-f256ce3d7734",
   "metadata": {},
   "source": [
    "<details>\n",
    "If you want to select the city named 'Atlanta' by comparision, using '=' instead of '==' will give you syntax error. Code expects a condition in the If statement but you are assigning a variable.\n",
    "</details>"
   ]
  },
  {
   "cell_type": "code",
   "execution_count": 14,
   "id": "7508ffdb-80e0-4434-a49d-b02b10d05d36",
   "metadata": {},
   "outputs": [
    {
     "name": "stdout",
     "output_type": "stream",
     "text": [
      "San Francisco\n",
      "New York\n",
      "Atlanta\n",
      "California\n"
     ]
    }
   ],
   "source": [
    "cities = ['San Francisco', 'Los Angeles', 'New York', 'Atlanta']\n",
    "\n",
    "for city in cities:\n",
    "    if city == 'Los Angeles':\n",
    "        state == 'California'\n",
    "    else:\n",
    "        print(city)\n",
    "print(state)"
   ]
  },
  {
   "cell_type": "markdown",
   "id": "39b73840-8e07-40a5-a930-4c0fb45b9c8c",
   "metadata": {},
   "source": [
    "<details>\n",
    "    Here the == operator is comparing the value of the variable `state` with the text 'California'.  As we want to assign the value to a new variable, the correct syntax is to use the = operator.\n",
    "</details>"
   ]
  },
  {
   "cell_type": "code",
   "execution_count": 15,
   "id": "7b511920-9eb1-4684-8ff2-1981301b445a",
   "metadata": {},
   "outputs": [
    {
     "ename": "ModuleNotFoundError",
     "evalue": "No module named 'pi'",
     "output_type": "error",
     "traceback": [
      "\u001b[0;31m---------------------------------------------------------------------------\u001b[0m",
      "\u001b[0;31mModuleNotFoundError\u001b[0m                       Traceback (most recent call last)",
      "Cell \u001b[0;32mIn[15], line 2\u001b[0m\n\u001b[1;32m      1\u001b[0m \u001b[38;5;28;01mimport\u001b[39;00m \u001b[38;5;21;01mmath\u001b[39;00m\n\u001b[0;32m----> 2\u001b[0m \u001b[38;5;28;01mimport\u001b[39;00m \u001b[38;5;21;01mpi\u001b[39;00m\n",
      "\u001b[0;31mModuleNotFoundError\u001b[0m: No module named 'pi'"
     ]
    }
   ],
   "source": [
    "import math\n",
    "import pi"
   ]
  },
  {
   "cell_type": "markdown",
   "id": "34f89b67-7ad0-4bba-9953-0916b511288b",
   "metadata": {},
   "source": [
    "<details>\n",
    "Importing the module and importing a function from the module are different in python. Here, Pi is a function inside math so it can't be called using 'import'. This error also arises because of spelling error or incorrect letter case while importing a module.\n",
    "</details>"
   ]
  },
  {
   "cell_type": "code",
   "execution_count": 16,
   "id": "daf85aa8-6779-4480-8ce4-4a59dd8f36fb",
   "metadata": {},
   "outputs": [
    {
     "ename": "TypeError",
     "evalue": "haversine_distance() missing 1 required positional argument: 'destination'",
     "output_type": "error",
     "traceback": [
      "\u001b[0;31m---------------------------------------------------------------------------\u001b[0m",
      "\u001b[0;31mTypeError\u001b[0m                                 Traceback (most recent call last)",
      "Cell \u001b[0;32mIn[16], line 15\u001b[0m\n\u001b[1;32m     13\u001b[0m city1 \u001b[38;5;241m=\u001b[39m (\u001b[38;5;241m22.47\u001b[39m, \u001b[38;5;241m70.05\u001b[39m)\n\u001b[1;32m     14\u001b[0m city2 \u001b[38;5;241m=\u001b[39m  (\u001b[38;5;241m28.45\u001b[39m , \u001b[38;5;241m77.02\u001b[39m)\n\u001b[0;32m---> 15\u001b[0m \u001b[43mhaversine_distance\u001b[49m\u001b[43m(\u001b[49m\u001b[43mcity1\u001b[49m\u001b[43m)\u001b[49m\n",
      "\u001b[0;31mTypeError\u001b[0m: haversine_distance() missing 1 required positional argument: 'destination'"
     ]
    }
   ],
   "source": [
    "def haversine_distance(origin, destination):\n",
    "  lat1, lon1 = origin\n",
    "  lat2, lon2 = destination\n",
    "  radius = 6371000\n",
    "  dlat = math.radians(lat2-lat1)\n",
    "  dlon = math.radians(lon2-lon1)\n",
    "  a = math.sin(dlat/2) * math.sin(dlat/2) + math.cos(math.radians(lat1)) \\\n",
    "    * math.cos(math.radians(lat2)) * math.sin(dlon/2) * math.sin(dlon/2)\n",
    "  c = 2 * math.atan2(math.sqrt(a), math.sqrt(1-a))\n",
    "  distance = radius * c\n",
    "  return distance\n",
    "\n",
    "city1 = (22.47, 70.05)\n",
    "city2 =  (28.45 , 77.02)\n",
    "haversine_distance(city1)"
   ]
  },
  {
   "cell_type": "markdown",
   "id": "ba692fa3-0c47-401a-9099-29a4c479570c",
   "metadata": {},
   "source": [
    "<details>\n",
    "The function `haversine_distance()` is defined to take 2 arguments, but we called it with only 1 argiment.\n",
    "</details>"
   ]
  }
 ],
 "metadata": {
  "kernelspec": {
   "display_name": "Python 3 (ipykernel)",
   "language": "python",
   "name": "python3"
  },
  "language_info": {
   "codemirror_mode": {
    "name": "ipython",
    "version": 3
   },
   "file_extension": ".py",
   "mimetype": "text/x-python",
   "name": "python",
   "nbconvert_exporter": "python",
   "pygments_lexer": "ipython3",
   "version": "3.10.12"
  }
 },
 "nbformat": 4,
 "nbformat_minor": 5
}
