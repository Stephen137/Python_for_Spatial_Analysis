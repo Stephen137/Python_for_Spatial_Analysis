{
 "cells": [
  {
   "cell_type": "markdown",
   "metadata": {
    "id": "fjEICkK_X_8i"
   },
   "source": [
    "# Reading CSV Files"
   ]
  },
  {
   "cell_type": "markdown",
   "metadata": {
    "id": "f04C6PbbX_9B"
   },
   "source": [
    "Comma-separated Values (CSV) are the most common text-based file format for sharing geospatial data. The structure of the file is 1 data record per line, with individual *columns* separated by a comma. \n",
    "\n",
    "In general, the separator character is called a delimiter. Other popular delimiters include the tab (\\\\t), colon (:) and semi-colon (;) characters. \n",
    "\n",
    "Reading CSV file properly requires us to know which delimiter is being used, along with quote character to surround the field values that contain space of the delimiter character. Since reading delimited text file is a very common operation, and can be tricky to handle all the corner cases, Python comes with its own library called `csv` for easy reading and writing of CSV files. To use it, you just have to import it.\n"
   ]
  },
  {
   "cell_type": "code",
   "execution_count": 1,
   "metadata": {
    "id": "oPoaAWrGX_9G"
   },
   "outputs": [],
   "source": [
    "import csv"
   ]
  },
  {
   "cell_type": "markdown",
   "metadata": {
    "id": "kr-wOGufX_9J"
   },
   "source": [
    "The preferred way to read CSV files is using the `DictReader()` method. Which directly reads each row and creates a dictionary from it - with column names as *key* and column values as *value*. Let's see how to read a file using the `csv.DictReader()` method."
   ]
  },
  {
   "cell_type": "code",
   "execution_count": 2,
   "metadata": {
    "id": "U5y1klXEX_9K"
   },
   "outputs": [],
   "source": [
    "import os\n",
    "data_pkg_path = 'data'\n",
    "filename = 'worldcities.csv'\n",
    "path = os.path.join(data_pkg_path, filename)"
   ]
  },
  {
   "cell_type": "code",
   "execution_count": 3,
   "metadata": {
    "id": "PnGJ9LovX_9L"
   },
   "outputs": [
    {
     "name": "stdout",
     "output_type": "stream",
     "text": [
      "<csv.DictReader object at 0x7f48473e74f0>\n"
     ]
    }
   ],
   "source": [
    "f = open(path, 'r')\n",
    "csv_reader = csv.DictReader(f, delimiter=',', quotechar='\"')\n",
    "print(csv_reader)\n",
    "f.close()"
   ]
  },
  {
   "cell_type": "markdown",
   "metadata": {
    "id": "p43TmAcXX_9N"
   },
   "source": [
    "## Using `enumerate()` function\n",
    "\n",
    "When iterating over an object, many times we need a counter. We saw in the previous example, how to use a variable like `count` and increase it with every iteration. There is an easy way to do this using the built-in `enumerate()` function."
   ]
  },
  {
   "cell_type": "code",
   "execution_count": 4,
   "metadata": {
    "id": "CYePkICvX_9O"
   },
   "outputs": [
    {
     "name": "stdout",
     "output_type": "stream",
     "text": [
      "(0, 'San Francisco')\n",
      "(1, 'Los Angeles')\n",
      "(2, 'New York')\n",
      "(3, 'Atlanta')\n"
     ]
    }
   ],
   "source": [
    "cities = ['San Francisco', 'Los Angeles', 'New York', 'Atlanta']\n",
    "for x in enumerate(cities):\n",
    "    print(x)"
   ]
  },
  {
   "cell_type": "markdown",
   "metadata": {
    "id": "2SQQcOnkX_9P"
   },
   "source": [
    "We can use `enumerate()` on any iterable object and get a tuple with an `index` and the iterable `value` with each iteration. Let's use it to print the first 5 lines from the DictReader object."
   ]
  },
  {
   "cell_type": "code",
   "execution_count": 5,
   "metadata": {
    "id": "JMdaJQtfX_9Q"
   },
   "outputs": [
    {
     "name": "stdout",
     "output_type": "stream",
     "text": [
      "{'city': 'Tokyo', 'city_ascii': 'Tokyo', 'lat': '35.6850', 'lng': '139.7514', 'country': 'Japan', 'iso2': 'JP', 'iso3': 'JPN', 'admin_name': 'Tōkyō', 'capital': 'primary', 'population': '35676000', 'id': '1392685764'}\n",
      "{'city': 'New York', 'city_ascii': 'New York', 'lat': '40.6943', 'lng': '-73.9249', 'country': 'United States', 'iso2': 'US', 'iso3': 'USA', 'admin_name': 'New York', 'capital': '', 'population': '19354922.0', 'id': '1840034016'}\n",
      "{'city': 'Mexico City', 'city_ascii': 'Mexico City', 'lat': '19.4424', 'lng': '-99.1310', 'country': 'Mexico', 'iso2': 'MX', 'iso3': 'MEX', 'admin_name': 'Ciudad de México', 'capital': 'primary', 'population': '19028000', 'id': '1484247881'}\n",
      "{'city': 'Mumbai', 'city_ascii': 'Mumbai', 'lat': '19.0170', 'lng': '72.8570', 'country': 'India', 'iso2': 'IN', 'iso3': 'IND', 'admin_name': 'Mahārāshtra', 'capital': 'admin', 'population': '18978000', 'id': '1356226629'}\n",
      "{'city': 'São Paulo', 'city_ascii': 'Sao Paulo', 'lat': '-23.5587', 'lng': '-46.6250', 'country': 'Brazil', 'iso2': 'BR', 'iso3': 'BRA', 'admin_name': 'São Paulo', 'capital': 'admin', 'population': '18845000', 'id': '1076532519'}\n"
     ]
    }
   ],
   "source": [
    "f = open(path, 'r', encoding='utf-8')\n",
    "\n",
    "csv_reader = csv.DictReader(f, delimiter=',', quotechar='\"')\n",
    "\n",
    "for index, row in enumerate(csv_reader):\n",
    "    print(row)\n",
    "    if index == 4: # recall indexing starts at 0 in Python, so we hit 4 after five iterations\n",
    "        break\n",
    "f.close()"
   ]
  },
  {
   "cell_type": "markdown",
   "metadata": {
    "id": "VyY7n8nYX_9R"
   },
   "source": [
    "## Using `with` statement\n"
   ]
  },
  {
   "cell_type": "markdown",
   "metadata": {
    "id": "8ZIN3M19X_9S"
   },
   "source": [
    "The code for file handling requires we open a file, do something with the file object and then close the file. That is tedious and it is possible that you may forget to call `close()` on the file. If the code for processing encounters an error the file is not closed property, it may result in bugs - especially when writing files.\n",
    "\n",
    "The preferred way to work with file objects is using the `with` statement. It results in simpler and cleaner code - which also ensures file objects are closed properly in case of errors.\n",
    "\n",
    "As you see below, we open the file and use the file object `f` in a `with` statement. Python takes care of closing the file when the execution of code within the statement is complete."
   ]
  },
  {
   "cell_type": "code",
   "execution_count": 6,
   "metadata": {
    "id": "vu9-IO38X_9T"
   },
   "outputs": [],
   "source": [
    "with open(path, 'r', encoding='utf-8') as f:\n",
    "    csv_reader = csv.DictReader(f)"
   ]
  },
  {
   "cell_type": "markdown",
   "metadata": {
    "id": "DMydfSKFX_9U"
   },
   "source": [
    "## Filtering rows\n",
    "\n",
    "We can use conditional statement while iterating over the rows, to select and process rows that meet certain criterial. Let's count how many cities from a particular country are present in the file.\n",
    "\n",
    "Replace the `home_country` variable with your home country below."
   ]
  },
  {
   "cell_type": "code",
   "execution_count": 7,
   "metadata": {
    "id": "rPti4RzWX_9V"
   },
   "outputs": [
    {
     "name": "stdout",
     "output_type": "stream",
     "text": [
      "212\n"
     ]
    }
   ],
   "source": [
    "home_country = 'India'\n",
    "num_cities = 0\n",
    "\n",
    "with open(path, 'r', encoding='utf-8') as f:\n",
    "    csv_reader = csv.DictReader(f)\n",
    "\n",
    "    for row in csv_reader:\n",
    "        if row['country'] == home_country: # if India appears in country column\n",
    "            num_cities += 1 # add to count\n",
    "            \n",
    "print(num_cities)"
   ]
  },
  {
   "cell_type": "markdown",
   "metadata": {
    "id": "s0HpZM5tX_9W"
   },
   "source": [
    "## Calculating distance\n",
    "\n",
    "Let's apply the skills we have learnt so far to solve a complete problem. We want to read the `worldcities.csv` file, find all cities within a home country, calculate the distance to each cities from a home city and write the results to a new CSV file."
   ]
  },
  {
   "cell_type": "markdown",
   "metadata": {
    "id": "PtQ1YIb1X_9W"
   },
   "source": [
    "First we find the coordinates of the out selected `home_city` from the file. Replace the `home_city` below with your hometown or a large city within your country. Note that we are using the `city_ascii` field for city name comparison, so make sure the `home_city` variable contains the ASCII version of the city name (i.e not containing any accents)."
   ]
  },
  {
   "cell_type": "code",
   "execution_count": 8,
   "metadata": {
    "id": "RxAciTfdX_9W"
   },
   "outputs": [
    {
     "name": "stdout",
     "output_type": "stream",
     "text": [
      "('50.0600', '19.9600')\n"
     ]
    }
   ],
   "source": [
    "home_city = 'Krakow'\n",
    "\n",
    "home_city_coordinates = ()\n",
    "\n",
    "with open(path, 'r', encoding='utf-8') as f:\n",
    "    \n",
    "    csv_reader = csv.DictReader(f)\n",
    "    \n",
    "    for row in csv_reader:\n",
    "        if row['city_ascii'] == home_city:\n",
    "            lat = row['lat']\n",
    "            lng = row['lng']\n",
    "            home_city_coordinates = (lat, lng)\n",
    "            break\n",
    "        \n",
    "print(home_city_coordinates)"
   ]
  },
  {
   "cell_type": "markdown",
   "metadata": {
    "id": "LKm3cno5X_9W"
   },
   "source": [
    "Now we can loop through the file, find a city in the chosen home country and call the `geopy.distance.geodesic()` function to calculate the distance. In the code below, we are just computing first 5 matches."
   ]
  },
  {
   "cell_type": "code",
   "execution_count": 15,
   "metadata": {},
   "outputs": [
    {
     "name": "stdout",
     "output_type": "stream",
     "text": [
      "The distance between Krakow and Mumbai is 5782.985972790845 kilometres.\n",
      "The distance between Krakow and Delhi is 5318.041599769162 kilometres.\n",
      "The distance between Krakow and Kolkata is 6591.5373880596135 kilometres.\n",
      "The distance between Krakow and Chennai is 6796.120397298579 kilometres.\n",
      "The distance between Krakow and Bengaluru is 6619.113057209586 kilometres.\n"
     ]
    }
   ],
   "source": [
    "from geopy import distance\n",
    "\n",
    "counter = 0\n",
    "\n",
    "with open(path, 'r', encoding='utf-8') as f:\n",
    "    \n",
    "    csv_reader = csv.DictReader(f)\n",
    "    \n",
    "    for row in csv_reader:\n",
    "        destination = row['city_ascii']\n",
    "        if (row['country'] == home_country and\n",
    "            row['city_ascii'] != home_city):\n",
    "            \n",
    "            city_coordinates = (row['lat'], row['lng'])\n",
    "            city_distance = distance.geodesic(\n",
    "                city_coordinates, home_city_coordinates).km\n",
    "            print(f'The distance between {home_city} and {destination} is {city_distance} kilometres.')\n",
    "            counter += 1\n",
    "            \n",
    "        if counter == 5:\n",
    "            break            "
   ]
  },
  {
   "cell_type": "markdown",
   "metadata": {
    "id": "fsgJ_oZxX_9X"
   },
   "source": [
    "## Writing files\n",
    "\n",
    "Instead of printing the results, let's write the results to a new file. Similar to `csv.DictReader()`, there is a companion `csv.DictWriter()` method to write files. We create a `csv_writer` object and then write rows to it using the `writerow()` method."
   ]
  },
  {
   "cell_type": "markdown",
   "metadata": {
    "id": "SKz12_N0X_9X"
   },
   "source": [
    "First we create an `output` folder to save the results. We can first check if the folder exists and if it doesn't exist, we can create it."
   ]
  },
  {
   "cell_type": "code",
   "execution_count": 16,
   "metadata": {
    "id": "bT5z7rmOX_9X"
   },
   "outputs": [],
   "source": [
    "output_dir = 'output'\n",
    "if not os.path.exists(output_dir):\n",
    "    os.mkdir(output_dir)"
   ]
  },
  {
   "cell_type": "code",
   "execution_count": null,
   "metadata": {
    "id": "NAn7zE7_X_9Y"
   },
   "outputs": [],
   "source": [
    "output_filename = 'cities_distance.csv'\n",
    "output_path = os.path.join(output_dir, output_filename)\n",
    "\n",
    "with open(output_path, mode='w', newline='', encoding='utf-8') as output_file:\n",
    "    fieldnames = ['city', 'distance_from_home']\n",
    "    csv_writer = csv.DictWriter(output_file, fieldnames=fieldnames)\n",
    "    csv_writer.writeheader()\n",
    "    \n",
    "    # Now we read the input file, calculate distance and\n",
    "    # write a row to the output \n",
    "    with open(path, 'r', encoding='utf-8') as f:\n",
    "        \n",
    "        csv_reader = csv.DictReader(f)\n",
    "        \n",
    "        for row in csv_reader:\n",
    "            if (row['country'] == home_country and\n",
    "                row['city_ascii'] != home_city):\n",
    "                city_coordinates = (row['lat'], row['lng'])\n",
    "                city_distance = distance.geodesic(\n",
    "                    city_coordinates, home_city_coordinates).km\n",
    "                \n",
    "                csv_writer.writerow(\n",
    "                    {'city': row['city_ascii'],\n",
    "                     'distance_from_home': city_distance}\n",
    "                )"
   ]
  },
  {
   "cell_type": "code",
   "execution_count": 17,
   "metadata": {},
   "outputs": [],
   "source": [
    "output_filename = 'cities_distance.csv'\n",
    "output_path = os.path.join(output_dir, output_filename)\n",
    "\n",
    "with open(output_path, mode='w', newline='', encoding='utf-8') as output_file:\n",
    "    fieldnames = ['city', 'distance_from_home']\n",
    "    csv_writer = csv.DictWriter(output_file, fieldnames=fieldnames)\n",
    "    csv_writer.writeheader()\n",
    "    \n",
    "    # Now we read the input file, calculate distance and\n",
    "    # write a row to the output \n",
    "    with open(path, 'r', encoding='utf-8') as f:\n",
    "        \n",
    "        csv_reader = csv.DictReader(f)\n",
    "        \n",
    "        for row in csv_reader:\n",
    "            destination = row['city_ascii']\n",
    "            if (row['country'] == home_country and\n",
    "                row['city_ascii'] != home_city):\n",
    "                city_coordinates = (row['lat'], row['lng'])\n",
    "                city_distance = distance.geodesic(\n",
    "                    city_coordinates, home_city_coordinates).km\n",
    "                \n",
    "                csv_writer.writerow(\n",
    "                    {'city': destination,\n",
    "                     'distance_from_home': city_distance}\n",
    "                )"
   ]
  },
  {
   "cell_type": "markdown",
   "metadata": {
    "id": "_fmYgE0FX_9Y"
   },
   "source": [
    "Below is the complete code for our task of reading a file, filtering it, calculating distance and writing the results to a file."
   ]
  },
  {
   "cell_type": "code",
   "execution_count": 21,
   "metadata": {
    "id": "kK_ChJjAX_9Y"
   },
   "outputs": [
    {
     "name": "stdout",
     "output_type": "stream",
     "text": [
      "Successfully written output file at output/cities_distance.csv\n"
     ]
    }
   ],
   "source": [
    "import csv\n",
    "import os\n",
    "from geopy import distance\n",
    "\n",
    "# configuring input and output filenames and paths\n",
    "data_pkg_path = 'data'\n",
    "input_filename = 'worldcities.csv'\n",
    "input_path = os.path.join(data_pkg_path, input_filename)\n",
    "output_filename = 'cities_distance.csv'\n",
    "output_dir = 'output'\n",
    "output_path = os.path.join(output_dir, output_filename)\n",
    "\n",
    "# create an output directory if there isn't one\n",
    "if not os.path.exists(output_dir):\n",
    "    os.mkdir(output_dir)\n",
    "    \n",
    "home_city = 'Bengaluru'\n",
    "home_country = 'India'\n",
    "\n",
    "with open(input_path, 'r', encoding='utf-8') as input_file:\n",
    "    \n",
    "    csv_reader = csv.DictReader(input_file)\n",
    "    \n",
    "    # extract co_ordinates of home_city\n",
    "    for row in csv_reader:\n",
    "        if row['city_ascii'] == home_city:\n",
    "            home_city_coordinates = (row['lat'], row['lng'])\n",
    "            break\n",
    "\n",
    "with open(output_path, mode='w', newline='') as output_file:\n",
    "    \n",
    "    # define column names to be written to new csv file\n",
    "    fieldnames = ['city', 'distance_from_home_km']\n",
    "    csv_writer = csv.DictWriter(output_file, fieldnames=fieldnames)\n",
    "    csv_writer.writeheader()\n",
    "\n",
    "    with open(input_path, 'r', encoding='utf-8') as input_file:\n",
    "        \n",
    "        csv_reader = csv.DictReader(input_file)\n",
    "        \n",
    "        for row in csv_reader:\n",
    "            destination = row['city_ascii']\n",
    "            if (row['country'] == home_country and\n",
    "                row['city_ascii'] != home_city):\n",
    "                city_coordinates = (row['lat'], row['lng'])\n",
    "                city_distance = distance.geodesic(\n",
    "                    city_coordinates, home_city_coordinates).km\n",
    "                csv_writer.writerow(\n",
    "                    {'city': destination,\n",
    "                     'distance_from_home_km': city_distance}\n",
    "                )\n",
    "\n",
    "print('Successfully written output file at {}'.format(output_path))"
   ]
  },
  {
   "cell_type": "markdown",
   "metadata": {
    "id": "E8tFLpCnX_9Z"
   },
   "source": [
    "## Exercise\n",
    "\n",
    "Replace the `home_city` and `home_country` variables with your own home city and home country and create a CSV file containing distance from your home city to every other city in your country."
   ]
  },
  {
   "cell_type": "markdown",
   "metadata": {},
   "source": [
    "## My Solution"
   ]
  },
  {
   "cell_type": "code",
   "execution_count": 22,
   "metadata": {},
   "outputs": [
    {
     "name": "stdout",
     "output_type": "stream",
     "text": [
      "Successfully written output file at output/cities_distance.csv\n"
     ]
    }
   ],
   "source": [
    "import csv\n",
    "import os\n",
    "from geopy import distance\n",
    "\n",
    "# configuring input and output filenames and paths\n",
    "data_pkg_path = 'data'\n",
    "input_filename = 'worldcities.csv'\n",
    "input_path = os.path.join(data_pkg_path, input_filename)\n",
    "output_filename = 'cities_distance.csv'\n",
    "output_dir = 'output'\n",
    "output_path = os.path.join(output_dir, output_filename)\n",
    "\n",
    "# create an output directory if there isn't one\n",
    "if not os.path.exists(output_dir):\n",
    "    os.mkdir(output_dir)\n",
    "    \n",
    "home_city = 'Krakow'\n",
    "home_country = 'Poland'\n",
    "\n",
    "with open(input_path, 'r', encoding='utf-8') as input_file:\n",
    "    \n",
    "    csv_reader = csv.DictReader(input_file)\n",
    "    \n",
    "    # extract co_ordinates of home_city\n",
    "    for row in csv_reader:\n",
    "        if row['city_ascii'] == home_city:\n",
    "            home_city_coordinates = (row['lat'], row['lng'])\n",
    "            break\n",
    "\n",
    "with open(output_path, mode='w', newline='') as output_file:\n",
    "    \n",
    "    # define column names to be written to new csv file\n",
    "    fieldnames = ['city', 'distance_from_home_km']\n",
    "    csv_writer = csv.DictWriter(output_file, fieldnames=fieldnames)\n",
    "    csv_writer.writeheader()\n",
    "\n",
    "    with open(input_path, 'r', encoding='utf-8') as input_file:\n",
    "        \n",
    "        csv_reader = csv.DictReader(input_file)\n",
    "        \n",
    "        for row in csv_reader:\n",
    "            destination = row['city_ascii']\n",
    "            if (row['country'] == home_country and\n",
    "                row['city_ascii'] != home_city):\n",
    "                city_coordinates = (row['lat'], row['lng'])\n",
    "                city_distance = distance.geodesic(\n",
    "                    city_coordinates, home_city_coordinates).km\n",
    "                csv_writer.writerow(\n",
    "                    {'city': destination,\n",
    "                     'distance_from_home_km': city_distance}\n",
    "                )\n",
    "\n",
    "print('Successfully written output file at {}'.format(output_path))"
   ]
  },
  {
   "attachments": {
    "7e5c2fcf-2f21-4df2-8ef3-f67f6af50d94.PNG": {
     "image/png": "[encoded data removed]"
    }
   },
   "cell_type": "markdown",
   "metadata": {},
   "source": [
    "![distances_from_krakow.PNG](attachment:7e5c2fcf-2f21-4df2-8ef3-f67f6af50d94.PNG)"
   ]
  },
  {
   "cell_type": "code",
   "execution_count": null,
   "metadata": {},
   "outputs": [],
   "source": []
  }
 ],
 "metadata": {
  "colab": {
   "provenance": []
  },
  "kernelspec": {
   "display_name": "Python 3 (ipykernel)",
   "language": "python",
   "name": "python3"
  },
  "language_info": {
   "codemirror_mode": {
    "name": "ipython",
    "version": 3
   },
   "file_extension": ".py",
   "mimetype": "text/x-python",
   "name": "python",
   "nbconvert_exporter": "python",
   "pygments_lexer": "ipython3",
   "version": "3.10.12"
  }
 },
 "nbformat": 4,
 "nbformat_minor": 4
}
