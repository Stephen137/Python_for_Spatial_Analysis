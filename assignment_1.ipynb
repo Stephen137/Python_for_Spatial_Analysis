{
 "cells": [
  {
   "cell_type": "markdown",
   "metadata": {
    "id": "ErX4L9CVntt2"
   },
   "source": [
    "# Assignment\n",
    "\n",
    "Your assignment is to geocode the addresses given below using [GeoPy](https://geopy.readthedocs.io/en/stable/). This assignment is designed to help you practice your coding skills learnt in the course so far."
   ]
  },
  {
   "cell_type": "markdown",
   "metadata": {
    "id": "RmZLGvLaoGgL"
   },
   "source": [
    "## Part 1\n",
    "\n",
    "You have been given a list containing 5 tuples of place names along with their address. You need to use the [Nominatim](https://geopy.readthedocs.io/en/stable/#module-geopy.geocoders) geocoder and obtain the latitude and longitude of each address."
   ]
  },
  {
   "cell_type": "code",
   "execution_count": 1,
   "metadata": {
    "id": "WGNIodilnc9I"
   },
   "outputs": [],
   "source": [
    "# List of Hurricane Evacuation Centers in New York City with Addresses\n",
    "# Each item is a tuple with the name of the center and its address\n",
    "locations = [\n",
    "    ('Norman Thomas HS (ECF)', '111 E 33rd St, NYC, New York'),\n",
    "    ('Midtown East Campus', '233 E 56th St, NYC, New York'),\n",
    "    ('Louis D. Brandeis HS', '145 W 84th St, NYC, New York'),\n",
    "    ('Martin Luther King, Jr. HS', '122 Amsterdam Avenue, NYC, New York'),\n",
    "    ('P.S. 48', '4360 Broadway, NYC, New York')\n",
    "]"
   ]
  },
  {
   "cell_type": "markdown",
   "metadata": {
    "id": "WfjGrQoY_Jo4"
   },
   "source": [
    "The expected output should be as follows\n",
    "\n",
    "```\n",
    "[('Norman Thomas HS (ECF)', 40.7462177, -73.9809816),\n",
    " ('Midtown East Campus', 40.65132465, -73.92421646290632),\n",
    " ('Louis D. Brandeis HS', 40.7857432, -73.9742029),\n",
    " ('Martin Luther King, Jr. HS', 40.7747751, -73.9853689),\n",
    " ('P.S. 48', 40.8532731, -73.9338592)]\n",
    "```"
   ]
  },
  {
   "cell_type": "markdown",
   "metadata": {},
   "source": [
    "## My Solution"
   ]
  },
  {
   "cell_type": "code",
   "execution_count": 72,
   "metadata": {},
   "outputs": [],
   "source": [
    "from geopy.geocoders import Nominatim"
   ]
  },
  {
   "cell_type": "code",
   "execution_count": 73,
   "metadata": {},
   "outputs": [],
   "source": [
    "# List of Hurricane Evacuation Centers in New York City with Addresses\n",
    "# Each item is a tuple with the name of the center and its address\n",
    "locations = [\n",
    "    ('Norman Thomas HS (ECF)', '111 E 33rd St, NYC, New York'),\n",
    "    ('Midtown East Campus', '233 E 56th St, NYC, New York'),\n",
    "    ('Louis D. Brandeis HS', '145 W 84th St, NYC, New York'),\n",
    "    ('Martin Luther King, Jr. HS', '122 Amsterdam Avenue, NYC, New York'),\n",
    "    ('P.S. 48', '4360 Broadway, NYC, New York')\n",
    "]"
   ]
  },
  {
   "cell_type": "code",
   "execution_count": 74,
   "metadata": {},
   "outputs": [
    {
     "name": "stdout",
     "output_type": "stream",
     "text": [
      "Norman Thomas HS (ECF) 111 E 33rd St, NYC, New York 40.7462177 -73.9809816\n",
      "Midtown East Campus 233 E 56th St, NYC, New York 40.65132465 -73.92421646290632\n",
      "Louis D. Brandeis HS 145 W 84th St, NYC, New York 40.7857432 -73.9742029\n",
      "Martin Luther King, Jr. HS 122 Amsterdam Avenue, NYC, New York 40.7747751 -73.9853689\n",
      "P.S. 48 4360 Broadway, NYC, New York 40.8532731 -73.9338592\n"
     ]
    }
   ],
   "source": [
    "for center, address in locations:\n",
    "    nom = Nominatim(user_agent='autogis2022', timeout=10)\n",
    "    coords = nom.geocode(address)\n",
    "    latitude = coords.latitude\n",
    "    longitude = coords.longitude\n",
    "    print (center, address, latitude, longitude)"
   ]
  },
  {
   "cell_type": "code",
   "execution_count": null,
   "metadata": {},
   "outputs": [],
   "source": []
  }
 ],
 "metadata": {
  "colab": {
   "authorship_tag": "ABX9TyNUwj52Qo05o4awS4ML4HDG",
   "provenance": []
  },
  "kernelspec": {
   "display_name": "Python 3 (ipykernel)",
   "language": "python",
   "name": "python3"
  },
  "language_info": {
   "codemirror_mode": {
    "name": "ipython",
    "version": 3
   },
   "file_extension": ".py",
   "mimetype": "text/x-python",
   "name": "python",
   "nbconvert_exporter": "python",
   "pygments_lexer": "ipython3",
   "version": "3.10.12"
  }
 },
 "nbformat": 4,
 "nbformat_minor": 4
}
