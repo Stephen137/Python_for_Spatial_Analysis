{
 "cells": [
  {
   "cell_type": "markdown",
   "metadata": {},
   "source": [
    "# Third-party Modules\n",
    "\n",
    "Python has a thriving ecosystem of third-party modules (i.e. libraries or packages) available for you to install. There are hundreds of thousands of such modules available for you to install and use.\n",
    "\n",
    "## Installing third-party libraries\n",
    "\n",
    "Python comes with a package manager called `pip`. It can install all the packages listed at [PyPI (Python Package Index)](https://pypi.org/). To install a package using pip, you need to run a command like following in a Terminal or CMD prompt.\n",
    "\n",
    "`pip install <package name>`\n",
    "\n",
    "For this course, we are using Anancoda platform - which comes with its own package manager called `conda`. You can use Anaconda Navigator to search and install packages. Or run the command like following in a Terminal or CMD Prompt.\n",
    "\n",
    "`conda install <package name>`\n",
    "\n",
    "See this [comparison of pip and conda](https://www.anaconda.com/blog/understanding-conda-and-pip) to understand the differences."
   ]
  },
  {
   "cell_type": "markdown",
   "metadata": {},
   "source": [
    "## Calculating Distance"
   ]
  },
  {
   "cell_type": "markdown",
   "metadata": {},
   "source": [
    "We have already installed the `geopy` package in our environment. `geopy` comes with functions that have already implemented many distance calculation formulae.\n",
    "\n",
    "- `distance.great_circle()`: Calculates the distance on a great circle using haversine formula\n",
    "- `distance.geodesic()`: Calculates the distance using a chosen ellipsoid using vincenty's formula"
   ]
  },
  {
   "cell_type": "code",
   "execution_count": 1,
   "metadata": {},
   "outputs": [
    {
     "name": "stdout",
     "output_type": "stream",
     "text": [
      "4135.3804590061345 km 4145.446977549561 km\n"
     ]
    }
   ],
   "source": [
    "from geopy import distance\n",
    "\n",
    "san_francisco = (37.7749, -122.4194)\n",
    "new_york = (40.661, -73.944)\n",
    "\n",
    "straight_line_distance = distance.great_circle(san_francisco, new_york)\n",
    "ellipsoid_distance = distance.geodesic(san_francisco, new_york, ellipsoid='WGS-84')\n",
    "\n",
    "print(straight_line_distance, ellipsoid_distance)"
   ]
  },
  {
   "cell_type": "markdown",
   "metadata": {},
   "source": [
    "## Exercise\n",
    "\n",
    "Repeat the distance calculation exercise from the previous module but perform the calculation using the geopy library."
   ]
  },
  {
   "cell_type": "code",
   "execution_count": 2,
   "metadata": {},
   "outputs": [],
   "source": [
    "from geopy import distance\n",
    "\n",
    "# city1 = (lat1, lng1)\n",
    "# city2 = (lat2, lng2)\n",
    "# call the geopy distance function and print the great circle and ellipsoid distance"
   ]
  },
  {
   "cell_type": "markdown",
   "metadata": {},
   "source": [
    "## My Solution"
   ]
  },
  {
   "cell_type": "code",
   "execution_count": 3,
   "metadata": {},
   "outputs": [],
   "source": [
    "origin_city = 'Kraków'\n",
    "destination_city = 'Warsaw'\n",
    "krakow = (50.049683, 19.944544)\n",
    "warsaw = (52.237049, 21.017532)\n",
    "ellipsoid = 'WGS-84'"
   ]
  },
  {
   "cell_type": "code",
   "execution_count": 4,
   "metadata": {},
   "outputs": [],
   "source": [
    "straight_line_distance = distance.great_circle(krakow, warsaw)\n",
    "ellipsoid_distance = distance.geodesic(krakow, warsaw, ellipsoid=ellipsoid)"
   ]
  },
  {
   "cell_type": "code",
   "execution_count": 5,
   "metadata": {},
   "outputs": [
    {
     "name": "stdout",
     "output_type": "stream",
     "text": [
      "The straight line distance on a great circle using the haversine formula between Kraków and Warsaw is 254.4741002402067 km.\n",
      "The distance between Kraków and Warsaw using the WGS-84 ellipsoid and Vincenty's formula is 254.66050737170627 km.\n"
     ]
    }
   ],
   "source": [
    "print(f'The straight line distance on a great circle using the haversine formula between {origin_city} and {destination_city} is {straight_line_distance}.') \n",
    "print(f\"The distance between {origin_city} and {destination_city} using the {ellipsoid} ellipsoid and Vincenty's formula is {ellipsoid_distance}.\") "
   ]
  }
 ],
 "metadata": {
  "kernelspec": {
   "display_name": "Python 3 (ipykernel)",
   "language": "python",
   "name": "python3"
  },
  "language_info": {
   "codemirror_mode": {
    "name": "ipython",
    "version": 3
   },
   "file_extension": ".py",
   "mimetype": "text/x-python",
   "name": "python",
   "nbconvert_exporter": "python",
   "pygments_lexer": "ipython3",
   "version": "3.10.12"
  }
 },
 "nbformat": 4,
 "nbformat_minor": 4
}
