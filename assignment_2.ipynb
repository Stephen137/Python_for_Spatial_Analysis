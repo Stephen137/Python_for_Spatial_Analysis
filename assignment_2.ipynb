{
 "cells": [
  {
   "cell_type": "markdown",
   "id": "ed98d815-7382-4db1-880c-a4bd0557e49c",
   "metadata": {},
   "source": [
    "## Part 2\n",
    "\n",
    "Get a list of 5 addresses in your city and geocode them.\n",
    "\n",
    "You can use Nominatim geocoder. Nominatim is based on OpenStreetMap and the it's geocoding quality varies from country to country. You can visit https://openstreetmap.org/ and search for your address. It uses Nominatim geocoder so you can check if your address is suitable for this service.\n",
    "\n",
    "Many countries of the world do not have structured addresses and use informal or landmark based addresses. There are usually very difficult to geocode accurately. If you are trying to geocode such addresses, your best bet is to truncate the address at the street or locality level.\n",
    "\n",
    "For example, an address like following will fail to geocode using Nominatim\n",
    "\n",
    "- `Spatial Thoughts LLP, FF 105, Aaradhya Complex, Gala Gymkhana Road, Bopal, Ahmedabad, India`\n",
    "\n",
    "Instead, you may try to geocode the following\n",
    "\n",
    "- `Gala Gymkhana Road, Bopal, Ahmedabad, India`\n"
   ]
  },
  {
   "cell_type": "markdown",
   "id": "1ca32aba-c361-41fc-b631-79c72feba713",
   "metadata": {},
   "source": [
    "## My Solution"
   ]
  },
  {
   "cell_type": "code",
   "execution_count": 19,
   "id": "f7c2715b-6ec3-4993-958f-91f756ce83e3",
   "metadata": {},
   "outputs": [],
   "source": [
    "krakow_addresses = [('Nowa Huta Museum', 'Osiedle Centrum E, Kraków'), \n",
    "                    ('Ogród Łobzów', 'Przeskok 16, 30-082, Kraków'),\n",
    "                    ('Mazaya Vegan & Vegetarian', 'Krupnicza 22, 31-123, Kraków'),\n",
    "                    ('Nowohuckie Centrum Kultury', 'al. Jana Pawla II 232, 31-913, Kraków'),\n",
    "                    ('Kino Pod Baranami', 'Rynek Glowny 27, 31-010, Kraków')]    "
   ]
  },
  {
   "cell_type": "code",
   "execution_count": 20,
   "id": "2b55aef0-30ca-462c-aa5e-f3bf820531b4",
   "metadata": {},
   "outputs": [],
   "source": [
    "from geopy.geocoders import Nominatim"
   ]
  },
  {
   "cell_type": "code",
   "execution_count": 21,
   "id": "9940b9b2-20ab-40d2-a1b3-562a73a9973d",
   "metadata": {},
   "outputs": [
    {
     "name": "stdout",
     "output_type": "stream",
     "text": [
      "Nowa Huta Museum Osiedle Centrum E, Kraków 50.069193 20.04040004473743\n",
      "Ogród Łobzów Przeskok 16, 30-082, Kraków 50.0750725 19.9123031\n",
      "Mazaya Vegan & Vegetarian Krupnicza 22, 31-123, Kraków 50.0633953 19.9289802\n",
      "Nowohuckie Centrum Kultury al. Jana Pawla II 232, 31-913, Kraków 50.0702498 20.034565\n",
      "Kino Pod Baranami Rynek Glowny 27, 31-010, Kraków 50.0616005 19.935303\n"
     ]
    }
   ],
   "source": [
    "for name, address in krakow_addresses:\n",
    "    nom = Nominatim(user_agent='autogis2022', timeout=10)\n",
    "    coords = nom.geocode(address)\n",
    "    latitude = coords.latitude\n",
    "    longitude = coords.longitude\n",
    "    print (name, address, latitude, longitude)"
   ]
  }
 ],
 "metadata": {
  "kernelspec": {
   "display_name": "Python 3 (ipykernel)",
   "language": "python",
   "name": "python3"
  },
  "language_info": {
   "codemirror_mode": {
    "name": "ipython",
    "version": 3
   },
   "file_extension": ".py",
   "mimetype": "text/x-python",
   "name": "python",
   "nbconvert_exporter": "python",
   "pygments_lexer": "ipython3",
   "version": "3.10.12"
  }
 },
 "nbformat": 4,
 "nbformat_minor": 5
}
